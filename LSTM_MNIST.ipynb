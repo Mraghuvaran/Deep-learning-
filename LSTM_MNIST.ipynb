{
  "nbformat": 4,
  "nbformat_minor": 0,
  "metadata": {
    "colab": {
      "name": "LSTM_MNIST.ipynb",
      "provenance": [],
      "collapsed_sections": []
    },
    "kernelspec": {
      "name": "python3",
      "display_name": "Python 3"
    },
    "accelerator": "GPU"
  },
  "cells": [
    {
      "cell_type": "code",
      "metadata": {
        "id": "s1nrAe-EIP-Z",
        "colab_type": "code",
        "colab": {
          "base_uri": "https://localhost:8080/",
          "height": 33
        },
        "outputId": "7ce00bbc-5a98-48e5-91c9-8a938a08cc71"
      },
      "source": [
        "import tensorflow as tf \n",
        "import keras \n",
        "from tensorflow.keras.models import Sequential\n",
        "from tensorflow.keras.layers import Dense, LSTM, CuDNNLSTM , Dropout"
      ],
      "execution_count": 1,
      "outputs": [
        {
          "output_type": "stream",
          "text": [
            "Using TensorFlow backend.\n"
          ],
          "name": "stderr"
        }
      ]
    },
    {
      "cell_type": "code",
      "metadata": {
        "id": "xGzB1R1zJBnI",
        "colab_type": "code",
        "colab": {}
      },
      "source": [
        "mnist = tf.keras.datasets.mnist"
      ],
      "execution_count": 0,
      "outputs": []
    },
    {
      "cell_type": "code",
      "metadata": {
        "id": "qDTU7lWLJYlf",
        "colab_type": "code",
        "colab": {
          "base_uri": "https://localhost:8080/",
          "height": 50
        },
        "outputId": "9d57c1c5-72b4-43f8-980c-856fc211fd1e"
      },
      "source": [
        "(X_train, y_train),(X_test, y_test) = mnist.load_data()"
      ],
      "execution_count": 3,
      "outputs": [
        {
          "output_type": "stream",
          "text": [
            "Downloading data from https://storage.googleapis.com/tensorflow/tf-keras-datasets/mnist.npz\n",
            "11493376/11490434 [==============================] - 0s 0us/step\n"
          ],
          "name": "stdout"
        }
      ]
    },
    {
      "cell_type": "code",
      "metadata": {
        "id": "E1ENUAYWJw9V",
        "colab_type": "code",
        "colab": {}
      },
      "source": [
        "X_train = X_train/255.0\n",
        "X_test = X_test/255.0"
      ],
      "execution_count": 0,
      "outputs": []
    },
    {
      "cell_type": "code",
      "metadata": {
        "id": "kVkgUo-WKS9v",
        "colab_type": "code",
        "outputId": "57d196e4-d61b-425c-9c73-383ee1140afa",
        "colab": {
          "base_uri": "https://localhost:8080/",
          "height": 33
        }
      },
      "source": [
        "X_train.shape"
      ],
      "execution_count": 5,
      "outputs": [
        {
          "output_type": "execute_result",
          "data": {
            "text/plain": [
              "(60000, 28, 28)"
            ]
          },
          "metadata": {
            "tags": []
          },
          "execution_count": 5
        }
      ]
    },
    {
      "cell_type": "code",
      "metadata": {
        "id": "Xp6GQ4gjKVZ9",
        "colab_type": "code",
        "outputId": "717d6d22-e030-4964-d57a-4165c7f2ece7",
        "colab": {
          "base_uri": "https://localhost:8080/",
          "height": 33
        }
      },
      "source": [
        "X_test.shape"
      ],
      "execution_count": 6,
      "outputs": [
        {
          "output_type": "execute_result",
          "data": {
            "text/plain": [
              "(10000, 28, 28)"
            ]
          },
          "metadata": {
            "tags": []
          },
          "execution_count": 6
        }
      ]
    },
    {
      "cell_type": "code",
      "metadata": {
        "id": "XCGCiGQYKYNI",
        "colab_type": "code",
        "outputId": "4e54d7ec-94cf-424a-9687-6807b11cfd6d",
        "colab": {
          "base_uri": "https://localhost:8080/",
          "height": 50
        }
      },
      "source": [
        "%%time\n",
        "model  = Sequential()"
      ],
      "execution_count": 7,
      "outputs": [
        {
          "output_type": "stream",
          "text": [
            "CPU times: user 10.9 ms, sys: 4.78 ms, total: 15.7 ms\n",
            "Wall time: 42.2 ms\n"
          ],
          "name": "stdout"
        }
      ]
    },
    {
      "cell_type": "code",
      "metadata": {
        "id": "rpAmhhzvNM3s",
        "colab_type": "code",
        "colab": {
          "base_uri": "https://localhost:8080/",
          "height": 87
        },
        "outputId": "0f8d857e-fdfc-4a14-99e7-55646c39ccaf"
      },
      "source": [
        "\n",
        "#for faster computation we use CuDDLSTM\n",
        "model.add(CuDNNLSTM(128, input_shape=(X_train.shape[1:]), return_sequences=True)) #by default it takes tanh as activation function \n"
      ],
      "execution_count": 8,
      "outputs": [
        {
          "output_type": "stream",
          "text": [
            "WARNING:tensorflow:From /usr/local/lib/python3.6/dist-packages/tensorflow/python/ops/init_ops.py:1251: calling VarianceScaling.__init__ (from tensorflow.python.ops.init_ops) with dtype is deprecated and will be removed in a future version.\n",
            "Instructions for updating:\n",
            "Call initializer instance with the dtype argument instead of passing it to the constructor\n"
          ],
          "name": "stdout"
        }
      ]
    },
    {
      "cell_type": "code",
      "metadata": {
        "id": "qsoTMdnJOe1a",
        "colab_type": "code",
        "colab": {}
      },
      "source": [
        "model.add(CuDNNLSTM(128)) #by default it takes tanh as activation function \n",
        "model.add(Dropout(0.2))"
      ],
      "execution_count": 0,
      "outputs": []
    },
    {
      "cell_type": "code",
      "metadata": {
        "id": "Jo-cBzSrOhzZ",
        "colab_type": "code",
        "colab": {}
      },
      "source": [
        "model.add(Dense(32, activation='relu'))\n",
        "model.add(Dropout(0.2))"
      ],
      "execution_count": 0,
      "outputs": []
    },
    {
      "cell_type": "code",
      "metadata": {
        "id": "YyoOJvtoOlzC",
        "colab_type": "code",
        "colab": {}
      },
      "source": [
        "\n",
        "model.add(Dense(10, activation='softmax'))\n"
      ],
      "execution_count": 0,
      "outputs": []
    },
    {
      "cell_type": "code",
      "metadata": {
        "id": "RV6MxW10OqcG",
        "colab_type": "code",
        "colab": {}
      },
      "source": [
        "opt = tf.keras.optimizers.Adam(learning_rate=1e-3, decay=1e-5)\n",
        "\n",
        "model.compile(optimizer=opt,loss ='sparse_categorical_crossentropy', metrics=['accuracy'])\n"
      ],
      "execution_count": 0,
      "outputs": []
    },
    {
      "cell_type": "code",
      "metadata": {
        "id": "uIim9XTqOukx",
        "colab_type": "code",
        "outputId": "24662473-9965-4079-aa95-aba3a2c77260",
        "colab": {
          "base_uri": "https://localhost:8080/",
          "height": 1000
        }
      },
      "source": [
        "%%time\n",
        "model.fit(X_train, y_train, validation_data=(X_test, y_test), epochs =50)"
      ],
      "execution_count": 13,
      "outputs": [
        {
          "output_type": "stream",
          "text": [
            "Train on 60000 samples, validate on 10000 samples\n",
            "Epoch 1/50\n",
            "60000/60000 [==============================] - 38s 632us/sample - loss: 0.4007 - acc: 0.8764 - val_loss: 0.1144 - val_acc: 0.9671\n",
            "Epoch 2/50\n",
            "60000/60000 [==============================] - 35s 582us/sample - loss: 0.1197 - acc: 0.9686 - val_loss: 0.0770 - val_acc: 0.9770\n",
            "Epoch 3/50\n",
            "60000/60000 [==============================] - 35s 583us/sample - loss: 0.0827 - acc: 0.9781 - val_loss: 0.0508 - val_acc: 0.9867\n",
            "Epoch 4/50\n",
            "60000/60000 [==============================] - 35s 585us/sample - loss: 0.0642 - acc: 0.9836 - val_loss: 0.0773 - val_acc: 0.9809\n",
            "Epoch 5/50\n",
            "60000/60000 [==============================] - 35s 582us/sample - loss: 0.0544 - acc: 0.9855 - val_loss: 0.0503 - val_acc: 0.9879\n",
            "Epoch 6/50\n",
            "60000/60000 [==============================] - 35s 581us/sample - loss: 0.0474 - acc: 0.9876 - val_loss: 0.0562 - val_acc: 0.9861\n",
            "Epoch 7/50\n",
            "60000/60000 [==============================] - 35s 581us/sample - loss: 0.0396 - acc: 0.9897 - val_loss: 0.0486 - val_acc: 0.9859\n",
            "Epoch 8/50\n",
            "60000/60000 [==============================] - 35s 580us/sample - loss: 0.0339 - acc: 0.9907 - val_loss: 0.0449 - val_acc: 0.9887\n",
            "Epoch 9/50\n",
            "60000/60000 [==============================] - 35s 582us/sample - loss: 0.0315 - acc: 0.9917 - val_loss: 0.0503 - val_acc: 0.9874\n",
            "Epoch 10/50\n",
            "60000/60000 [==============================] - 35s 581us/sample - loss: 0.0272 - acc: 0.9926 - val_loss: 0.0418 - val_acc: 0.9894\n",
            "Epoch 11/50\n",
            "60000/60000 [==============================] - 35s 580us/sample - loss: 0.0249 - acc: 0.9933 - val_loss: 0.0327 - val_acc: 0.9917\n",
            "Epoch 12/50\n",
            "60000/60000 [==============================] - 35s 582us/sample - loss: 0.0221 - acc: 0.9940 - val_loss: 0.0380 - val_acc: 0.9907\n",
            "Epoch 13/50\n",
            "60000/60000 [==============================] - 35s 581us/sample - loss: 0.0175 - acc: 0.9952 - val_loss: 0.0393 - val_acc: 0.9912\n",
            "Epoch 14/50\n",
            "60000/60000 [==============================] - 35s 582us/sample - loss: 0.0184 - acc: 0.9949 - val_loss: 0.0348 - val_acc: 0.9918\n",
            "Epoch 15/50\n",
            "60000/60000 [==============================] - 35s 581us/sample - loss: 0.0160 - acc: 0.9957 - val_loss: 0.0544 - val_acc: 0.9874\n",
            "Epoch 16/50\n",
            "60000/60000 [==============================] - 35s 580us/sample - loss: 0.0150 - acc: 0.9961 - val_loss: 0.0402 - val_acc: 0.9915\n",
            "Epoch 17/50\n",
            "60000/60000 [==============================] - 35s 580us/sample - loss: 0.0134 - acc: 0.9964 - val_loss: 0.0494 - val_acc: 0.9911\n",
            "Epoch 18/50\n",
            "60000/60000 [==============================] - 35s 580us/sample - loss: 0.0150 - acc: 0.9960 - val_loss: 0.0425 - val_acc: 0.9901\n",
            "Epoch 19/50\n",
            "60000/60000 [==============================] - 35s 578us/sample - loss: 0.0128 - acc: 0.9966 - val_loss: 0.0382 - val_acc: 0.9918\n",
            "Epoch 20/50\n",
            "60000/60000 [==============================] - 35s 580us/sample - loss: 0.0107 - acc: 0.9972 - val_loss: 0.0470 - val_acc: 0.9894\n",
            "Epoch 21/50\n",
            "60000/60000 [==============================] - 35s 584us/sample - loss: 0.0116 - acc: 0.9970 - val_loss: 0.0499 - val_acc: 0.9887\n",
            "Epoch 22/50\n",
            "60000/60000 [==============================] - 35s 579us/sample - loss: 0.0094 - acc: 0.9973 - val_loss: 0.0541 - val_acc: 0.9901\n",
            "Epoch 23/50\n",
            "60000/60000 [==============================] - 35s 581us/sample - loss: 0.0092 - acc: 0.9975 - val_loss: 0.0480 - val_acc: 0.9908\n",
            "Epoch 24/50\n",
            "60000/60000 [==============================] - 35s 581us/sample - loss: 0.0094 - acc: 0.9972 - val_loss: 0.0438 - val_acc: 0.9917\n",
            "Epoch 25/50\n",
            "60000/60000 [==============================] - 35s 581us/sample - loss: 0.0071 - acc: 0.9979 - val_loss: 0.0512 - val_acc: 0.9913\n",
            "Epoch 26/50\n",
            "60000/60000 [==============================] - 35s 582us/sample - loss: 0.0095 - acc: 0.9976 - val_loss: 0.0408 - val_acc: 0.9917\n",
            "Epoch 27/50\n",
            "60000/60000 [==============================] - 35s 580us/sample - loss: 0.0056 - acc: 0.9984 - val_loss: 0.0455 - val_acc: 0.9923\n",
            "Epoch 28/50\n",
            "60000/60000 [==============================] - 35s 581us/sample - loss: 0.0078 - acc: 0.9979 - val_loss: 0.0480 - val_acc: 0.9919\n",
            "Epoch 29/50\n",
            "60000/60000 [==============================] - 35s 585us/sample - loss: 0.0068 - acc: 0.9983 - val_loss: 0.0526 - val_acc: 0.9913\n",
            "Epoch 30/50\n",
            "60000/60000 [==============================] - 35s 583us/sample - loss: 0.0072 - acc: 0.9981 - val_loss: 0.0568 - val_acc: 0.9910\n",
            "Epoch 31/50\n",
            "60000/60000 [==============================] - 35s 583us/sample - loss: 0.0073 - acc: 0.9982 - val_loss: 0.0449 - val_acc: 0.9925\n",
            "Epoch 32/50\n",
            "60000/60000 [==============================] - 37s 611us/sample - loss: 0.0041 - acc: 0.9990 - val_loss: 0.0464 - val_acc: 0.9921\n",
            "Epoch 33/50\n",
            "60000/60000 [==============================] - 37s 614us/sample - loss: 0.0070 - acc: 0.9980 - val_loss: 0.0549 - val_acc: 0.9908\n",
            "Epoch 34/50\n",
            "60000/60000 [==============================] - 37s 615us/sample - loss: 0.0053 - acc: 0.9987 - val_loss: 0.0450 - val_acc: 0.9931\n",
            "Epoch 35/50\n",
            "60000/60000 [==============================] - 35s 591us/sample - loss: 0.0043 - acc: 0.9989 - val_loss: 0.0527 - val_acc: 0.9919\n",
            "Epoch 36/50\n",
            "60000/60000 [==============================] - 35s 583us/sample - loss: 0.0045 - acc: 0.9987 - val_loss: 0.0577 - val_acc: 0.9904\n",
            "Epoch 37/50\n",
            "60000/60000 [==============================] - 35s 585us/sample - loss: 0.0051 - acc: 0.9987 - val_loss: 0.0612 - val_acc: 0.9916\n",
            "Epoch 38/50\n",
            "60000/60000 [==============================] - 35s 584us/sample - loss: 0.0050 - acc: 0.9984 - val_loss: 0.0481 - val_acc: 0.9924\n",
            "Epoch 39/50\n",
            "60000/60000 [==============================] - 35s 582us/sample - loss: 0.0041 - acc: 0.9990 - val_loss: 0.0492 - val_acc: 0.9918\n",
            "Epoch 40/50\n",
            "60000/60000 [==============================] - 35s 584us/sample - loss: 0.0039 - acc: 0.9990 - val_loss: 0.0531 - val_acc: 0.9917\n",
            "Epoch 41/50\n",
            "60000/60000 [==============================] - 35s 582us/sample - loss: 0.0047 - acc: 0.9988 - val_loss: 0.0518 - val_acc: 0.9907\n",
            "Epoch 42/50\n",
            "60000/60000 [==============================] - 35s 584us/sample - loss: 0.0028 - acc: 0.9994 - val_loss: 0.0549 - val_acc: 0.9925\n",
            "Epoch 43/50\n",
            "60000/60000 [==============================] - 35s 583us/sample - loss: 0.0059 - acc: 0.9987 - val_loss: 0.0577 - val_acc: 0.9918\n",
            "Epoch 44/50\n",
            "60000/60000 [==============================] - 35s 584us/sample - loss: 0.0023 - acc: 0.9994 - val_loss: 0.0592 - val_acc: 0.9923\n",
            "Epoch 45/50\n",
            "60000/60000 [==============================] - 35s 583us/sample - loss: 0.0040 - acc: 0.9990 - val_loss: 0.0592 - val_acc: 0.9915\n",
            "Epoch 46/50\n",
            "60000/60000 [==============================] - 35s 585us/sample - loss: 0.0045 - acc: 0.9988 - val_loss: 0.0404 - val_acc: 0.9932\n",
            "Epoch 47/50\n",
            "60000/60000 [==============================] - 35s 589us/sample - loss: 0.0022 - acc: 0.9995 - val_loss: 0.0436 - val_acc: 0.9935\n",
            "Epoch 48/50\n",
            "60000/60000 [==============================] - 35s 586us/sample - loss: 0.0034 - acc: 0.9990 - val_loss: 0.0573 - val_acc: 0.9909\n",
            "Epoch 49/50\n",
            "60000/60000 [==============================] - 35s 586us/sample - loss: 0.0036 - acc: 0.9991 - val_loss: 0.0543 - val_acc: 0.9917\n",
            "Epoch 50/50\n",
            "60000/60000 [==============================] - 35s 585us/sample - loss: 0.0040 - acc: 0.9990 - val_loss: 0.0540 - val_acc: 0.9908\n",
            "CPU times: user 20min 55s, sys: 5min 28s, total: 26min 24s\n",
            "Wall time: 29min 20s\n"
          ],
          "name": "stdout"
        },
        {
          "output_type": "execute_result",
          "data": {
            "text/plain": [
              "<tensorflow.python.keras.callbacks.History at 0x7f3587dd0d30>"
            ]
          },
          "metadata": {
            "tags": []
          },
          "execution_count": 13
        }
      ]
    },
    {
      "cell_type": "code",
      "metadata": {
        "id": "NCz9cUdrO0k-",
        "colab_type": "code",
        "colab": {}
      },
      "source": [
        ""
      ],
      "execution_count": 0,
      "outputs": []
    }
  ]
}